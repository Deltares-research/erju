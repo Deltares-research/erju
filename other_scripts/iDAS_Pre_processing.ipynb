{
 "cells": [
  {
   "cell_type": "code",
   "execution_count": 2,
   "metadata": {},
   "outputs": [],
   "source": [
    "import os\n",
    "import glob\n",
    "import numpy as np \n",
    "from nptdms import TdmsFile"
   ]
  },
  {
   "cell_type": "code",
   "execution_count": null,
   "metadata": {},
   "outputs": [],
   "source": [
    "def readTDMS(tdms_file):\n",
    "    tdms_file = TdmsFile.read(tdms_file)\n",
    "    props = tdms_file.properties\n",
    "    ##----Extract important properties----##\n",
    "    zero_offset = props.get('Zero Offset (m)') \n",
    "    dx = props.get('SpatialResolution[m]') * props.get('Fibre Length Multiplier')\n",
    "    fs = props.get('SamplingFrequency[Hz]')\n",
    "    data = np.array(tdms_file.as_dataframe())\n",
    "\n",
    "    return (data,dx,fs)"
   ]
  },
  {
   "cell_type": "code",
   "execution_count": null,
   "metadata": {},
   "outputs": [],
   "source": [
    "\n",
    "for file in all_files:\n",
    "\n"
   ]
  }
 ],
 "metadata": {
  "kernelspec": {
   "display_name": "obspy",
   "language": "python",
   "name": "python3"
  },
  "language_info": {
   "codemirror_mode": {
    "name": "ipython",
    "version": 3
   },
   "file_extension": ".py",
   "mimetype": "text/x-python",
   "name": "python",
   "nbconvert_exporter": "python",
   "pygments_lexer": "ipython3",
   "version": "3.10.10"
  }
 },
 "nbformat": 4,
 "nbformat_minor": 2
}
